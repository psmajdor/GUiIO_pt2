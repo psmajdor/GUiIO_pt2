{
 "cells": [
  {
   "cell_type": "code",
   "execution_count": 2,
   "id": "2c94e90d",
   "metadata": {},
   "outputs": [],
   "source": [
    "import pandas as pd\n",
    "import numpy as np"
   ]
  },
  {
   "cell_type": "code",
   "execution_count": 3,
   "id": "1e4ac6e4",
   "metadata": {},
   "outputs": [
    {
     "data": {
      "text/html": [
       "<div>\n",
       "<style scoped>\n",
       "    .dataframe tbody tr th:only-of-type {\n",
       "        vertical-align: middle;\n",
       "    }\n",
       "\n",
       "    .dataframe tbody tr th {\n",
       "        vertical-align: top;\n",
       "    }\n",
       "\n",
       "    .dataframe thead th {\n",
       "        text-align: right;\n",
       "    }\n",
       "</style>\n",
       "<table border=\"1\" class=\"dataframe\">\n",
       "  <thead>\n",
       "    <tr style=\"text-align: right;\">\n",
       "      <th></th>\n",
       "      <th>text</th>\n",
       "      <th>sentiment</th>\n",
       "    </tr>\n",
       "  </thead>\n",
       "  <tbody>\n",
       "    <tr>\n",
       "      <th>0</th>\n",
       "      <td>lol get ideas far advance even june yet need t...</td>\n",
       "      <td>1</td>\n",
       "    </tr>\n",
       "    <tr>\n",
       "      <th>1</th>\n",
       "      <td>worst headache ever</td>\n",
       "      <td>0</td>\n",
       "    </tr>\n",
       "    <tr>\n",
       "      <th>2</th>\n",
       "      <td>sad wont see miss already yeah thats perfect c...</td>\n",
       "      <td>0</td>\n",
       "    </tr>\n",
       "    <tr>\n",
       "      <th>3</th>\n",
       "      <td>doesnt know spell conked</td>\n",
       "      <td>1</td>\n",
       "    </tr>\n",
       "    <tr>\n",
       "      <th>4</th>\n",
       "      <td>quotso stand one knows us wont get used wont g...</td>\n",
       "      <td>0</td>\n",
       "    </tr>\n",
       "  </tbody>\n",
       "</table>\n",
       "</div>"
      ],
      "text/plain": [
       "                                                text  sentiment\n",
       "0  lol get ideas far advance even june yet need t...          1\n",
       "1                                worst headache ever          0\n",
       "2  sad wont see miss already yeah thats perfect c...          0\n",
       "3                           doesnt know spell conked          1\n",
       "4  quotso stand one knows us wont get used wont g...          0"
      ]
     },
     "execution_count": 3,
     "metadata": {},
     "output_type": "execute_result"
    }
   ],
   "source": [
    "csv_training_data = pd.read_csv(\"data/train_data.csv\")\n",
    "csv_training_data.head()"
   ]
  },
  {
   "cell_type": "code",
   "execution_count": 4,
   "id": "012ccc1c",
   "metadata": {},
   "outputs": [],
   "source": [
    "with open('emb_test.npy', 'rb') as f:\n",
    "    embeddings_arr = np.load(f)"
   ]
  },
  {
   "cell_type": "code",
   "execution_count": 8,
   "id": "0b2be1d8",
   "metadata": {},
   "outputs": [
    {
     "name": "stdout",
     "output_type": "stream",
     "text": [
      "768\n"
     ]
    }
   ],
   "source": [
    "for row in embeddings_arr:\n",
    "    print(len(row))\n",
    "    break"
   ]
  },
  {
   "cell_type": "code",
   "execution_count": 10,
   "id": "a02f16ed",
   "metadata": {},
   "outputs": [],
   "source": [
    "embedddings_df = csv_training_data.copy(deep=True)\n",
    "embedddings_df['embeddings'] = embedddings_df.apply(lambda row: embeddings_arr[row.name], axis=1)\n"
   ]
  },
  {
   "cell_type": "code",
   "execution_count": 16,
   "id": "dd21c13d",
   "metadata": {},
   "outputs": [
    {
     "data": {
      "text/html": [
       "<div>\n",
       "<style scoped>\n",
       "    .dataframe tbody tr th:only-of-type {\n",
       "        vertical-align: middle;\n",
       "    }\n",
       "\n",
       "    .dataframe tbody tr th {\n",
       "        vertical-align: top;\n",
       "    }\n",
       "\n",
       "    .dataframe thead th {\n",
       "        text-align: right;\n",
       "    }\n",
       "</style>\n",
       "<table border=\"1\" class=\"dataframe\">\n",
       "  <thead>\n",
       "    <tr style=\"text-align: right;\">\n",
       "      <th></th>\n",
       "      <th>text</th>\n",
       "      <th>sentiment</th>\n",
       "      <th>embeddings</th>\n",
       "    </tr>\n",
       "  </thead>\n",
       "  <tbody>\n",
       "    <tr>\n",
       "      <th>0</th>\n",
       "      <td>lol get ideas far advance even june yet need t...</td>\n",
       "      <td>1</td>\n",
       "      <td>[-0.011714689, 0.047031093, -0.03471053, 0.012...</td>\n",
       "    </tr>\n",
       "    <tr>\n",
       "      <th>1</th>\n",
       "      <td>worst headache ever</td>\n",
       "      <td>0</td>\n",
       "      <td>[0.017082984, -0.031662744, -0.0011064939, 0.0...</td>\n",
       "    </tr>\n",
       "    <tr>\n",
       "      <th>2</th>\n",
       "      <td>sad wont see miss already yeah thats perfect c...</td>\n",
       "      <td>0</td>\n",
       "      <td>[0.028080447, -0.048339564, -0.037557725, 0.01...</td>\n",
       "    </tr>\n",
       "    <tr>\n",
       "      <th>3</th>\n",
       "      <td>doesnt know spell conked</td>\n",
       "      <td>1</td>\n",
       "      <td>[0.041773327, -0.11632217, -0.014832271, 0.047...</td>\n",
       "    </tr>\n",
       "    <tr>\n",
       "      <th>4</th>\n",
       "      <td>quotso stand one knows us wont get used wont g...</td>\n",
       "      <td>0</td>\n",
       "      <td>[0.006859572, 0.018458897, -0.020173764, -0.06...</td>\n",
       "    </tr>\n",
       "    <tr>\n",
       "      <th>...</th>\n",
       "      <td>...</td>\n",
       "      <td>...</td>\n",
       "      <td>...</td>\n",
       "    </tr>\n",
       "    <tr>\n",
       "      <th>1279995</th>\n",
       "      <td>new blog morning</td>\n",
       "      <td>1</td>\n",
       "      <td>[0.056156434, 0.020694433, 0.0152613195, -0.00...</td>\n",
       "    </tr>\n",
       "    <tr>\n",
       "      <th>1279996</th>\n",
       "      <td>omg amazing job jonas</td>\n",
       "      <td>1</td>\n",
       "      <td>[0.011772567, 0.06473066, -0.018455321, 0.0229...</td>\n",
       "    </tr>\n",
       "    <tr>\n",
       "      <th>1279997</th>\n",
       "      <td>got home meeting talking endlessly one coolest...</td>\n",
       "      <td>1</td>\n",
       "      <td>[-0.0075863306, -0.028213395, -0.026884371, -0...</td>\n",
       "    </tr>\n",
       "    <tr>\n",
       "      <th>1279998</th>\n",
       "      <td>bought chocolate bars quot wins free barquot l...</td>\n",
       "      <td>0</td>\n",
       "      <td>[0.06809199, 0.005429207, -0.0048561823, 0.043...</td>\n",
       "    </tr>\n",
       "    <tr>\n",
       "      <th>1279999</th>\n",
       "      <td>said hope dm email sunday</td>\n",
       "      <td>1</td>\n",
       "      <td>[-0.0016016586, -0.009920002, -0.03474642, 0.0...</td>\n",
       "    </tr>\n",
       "  </tbody>\n",
       "</table>\n",
       "<p>1280000 rows × 3 columns</p>\n",
       "</div>"
      ],
      "text/plain": [
       "                                                      text  sentiment  \\\n",
       "0        lol get ideas far advance even june yet need t...          1   \n",
       "1                                      worst headache ever          0   \n",
       "2        sad wont see miss already yeah thats perfect c...          0   \n",
       "3                                 doesnt know spell conked          1   \n",
       "4        quotso stand one knows us wont get used wont g...          0   \n",
       "...                                                    ...        ...   \n",
       "1279995                                   new blog morning          1   \n",
       "1279996                              omg amazing job jonas          1   \n",
       "1279997  got home meeting talking endlessly one coolest...          1   \n",
       "1279998  bought chocolate bars quot wins free barquot l...          0   \n",
       "1279999                          said hope dm email sunday          1   \n",
       "\n",
       "                                                embeddings  \n",
       "0        [-0.011714689, 0.047031093, -0.03471053, 0.012...  \n",
       "1        [0.017082984, -0.031662744, -0.0011064939, 0.0...  \n",
       "2        [0.028080447, -0.048339564, -0.037557725, 0.01...  \n",
       "3        [0.041773327, -0.11632217, -0.014832271, 0.047...  \n",
       "4        [0.006859572, 0.018458897, -0.020173764, -0.06...  \n",
       "...                                                    ...  \n",
       "1279995  [0.056156434, 0.020694433, 0.0152613195, -0.00...  \n",
       "1279996  [0.011772567, 0.06473066, -0.018455321, 0.0229...  \n",
       "1279997  [-0.0075863306, -0.028213395, -0.026884371, -0...  \n",
       "1279998  [0.06809199, 0.005429207, -0.0048561823, 0.043...  \n",
       "1279999  [-0.0016016586, -0.009920002, -0.03474642, 0.0...  \n",
       "\n",
       "[1280000 rows x 3 columns]"
      ]
     },
     "execution_count": 16,
     "metadata": {},
     "output_type": "execute_result"
    }
   ],
   "source": [
    "embedddings_df"
   ]
  },
  {
   "cell_type": "code",
   "execution_count": 17,
   "id": "ad0eaef7",
   "metadata": {},
   "outputs": [],
   "source": [
    "embedddings_df.to_feather('train_embeddings.feather', compression='zstd')"
   ]
  }
 ],
 "metadata": {
  "kernelspec": {
   "display_name": ".venv",
   "language": "python",
   "name": "python3"
  },
  "language_info": {
   "codemirror_mode": {
    "name": "ipython",
    "version": 3
   },
   "file_extension": ".py",
   "mimetype": "text/x-python",
   "name": "python",
   "nbconvert_exporter": "python",
   "pygments_lexer": "ipython3",
   "version": "3.12.3"
  }
 },
 "nbformat": 4,
 "nbformat_minor": 5
}
