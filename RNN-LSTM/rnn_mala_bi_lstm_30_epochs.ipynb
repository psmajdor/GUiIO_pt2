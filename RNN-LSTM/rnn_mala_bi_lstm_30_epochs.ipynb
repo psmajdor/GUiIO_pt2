{
  "cells": [
    {
      "cell_type": "markdown",
      "id": "8998ac8e",
      "metadata": {
        "id": "8998ac8e"
      },
      "source": [
        "Imports"
      ]
    },
    {
      "cell_type": "code",
      "execution_count": 1,
      "id": "eb4663eb",
      "metadata": {
        "id": "eb4663eb"
      },
      "outputs": [],
      "source": [
        "import numpy as np\n",
        "import pandas as pd\n",
        "import os\n",
        "import tensorflow as tf\n",
        "from tensorflow.keras.models import Model, Sequential\n",
        "from tensorflow.keras.layers import (\n",
        "    Input, Embedding, LSTM, GRU, SimpleRNN,\n",
        "    Dense, Dropout, Flatten, BatchNormalization,\n",
        "    GlobalAveragePooling2D, LeakyReLU\n",
        ")\n",
        "from tensorflow.keras.optimizers import Adam\n",
        "from tensorflow.keras.callbacks import EarlyStopping, ReduceLROnPlateau, ModelCheckpoint\n",
        "from tensorflow.keras.preprocessing.sequence import pad_sequences\n",
        "from tensorflow.keras.utils import to_categorical\n",
        "from sklearn.model_selection import train_test_split\n",
        "from sklearn.metrics import classification_report, confusion_matrix, accuracy_score\n",
        "from tensorflow.keras.layers import LSTM\n",
        "from tensorflow.keras.layers import GlobalAveragePooling1D\n",
        "from tensorflow.keras.layers import Input, LSTM, Dense, Bidirectional, Dropout, BatchNormalization\n",
        "from tensorflow.keras.layers import Input, LSTM, Bidirectional, Dropout, BatchNormalization, Attention, Add, Dense, LeakyReLU\n",
        "from tensorflow.keras.preprocessing.text import Tokenizer\n",
        "from tensorflow.keras.layers import Attention\n",
        "from sklearn.preprocessing import MinMaxScaler\n",
        "from tensorflow.keras.regularizers import l2\n",
        "from sklearn.preprocessing import LabelEncoder\n",
        "import numpy as np\n",
        "import matplotlib.pyplot as plt\n",
        "import pandas as pd\n",
        "import os\n",
        "import random\n",
        "import seaborn as sns"
      ]
    },
    {
      "cell_type": "code",
      "execution_count": 2,
      "id": "4ab0c2c5",
      "metadata": {
        "id": "4ab0c2c5"
      },
      "outputs": [],
      "source": [
        "#import tensorflow as tf\n",
        "#from tensorflow.python.client import device_lib\n",
        "#print(\"TensorFlow version:\", tf.__version__)\n",
        "#print(\"Built with CUDA:\", tf.test.is_built_with_cuda())\n",
        "#print(\"GPU available via tf.config:\", tf.config.list_physical_devices('GPU'))\n",
        "#print(\"Available devices:\", device_lib.list_local_devices())"
      ]
    },
    {
      "cell_type": "markdown",
      "id": "57fc78ff",
      "metadata": {
        "id": "57fc78ff"
      },
      "source": [
        "Data preprocessing"
      ]
    },
    {
      "cell_type": "code",
      "execution_count": null,
      "id": "b4ce3460",
      "metadata": {
        "colab": {
          "base_uri": "https://localhost:8080/",
          "height": 206
        },
        "id": "b4ce3460",
        "outputId": "e022077e-9efa-4df0-adc7-97043719a0bf"
      },
      "outputs": [
        {
          "data": {
            "application/vnd.google.colaboratory.intrinsic+json": {
              "type": "dataframe",
              "variable_name": "df_train_data"
            },
            "text/html": [
              "\n",
              "  <div id=\"df-02bde8b4-2950-4bf2-a23e-b7c01b1399a2\" class=\"colab-df-container\">\n",
              "    <div>\n",
              "<style scoped>\n",
              "    .dataframe tbody tr th:only-of-type {\n",
              "        vertical-align: middle;\n",
              "    }\n",
              "\n",
              "    .dataframe tbody tr th {\n",
              "        vertical-align: top;\n",
              "    }\n",
              "\n",
              "    .dataframe thead th {\n",
              "        text-align: right;\n",
              "    }\n",
              "</style>\n",
              "<table border=\"1\" class=\"dataframe\">\n",
              "  <thead>\n",
              "    <tr style=\"text-align: right;\">\n",
              "      <th></th>\n",
              "      <th>text</th>\n",
              "      <th>sentiment</th>\n",
              "    </tr>\n",
              "  </thead>\n",
              "  <tbody>\n",
              "    <tr>\n",
              "      <th>0</th>\n",
              "      <td>lol get ideas far advance even june yet need t...</td>\n",
              "      <td>1</td>\n",
              "    </tr>\n",
              "    <tr>\n",
              "      <th>1</th>\n",
              "      <td>worst headache ever</td>\n",
              "      <td>0</td>\n",
              "    </tr>\n",
              "    <tr>\n",
              "      <th>2</th>\n",
              "      <td>sad wont see miss already yeah thats perfect c...</td>\n",
              "      <td>0</td>\n",
              "    </tr>\n",
              "    <tr>\n",
              "      <th>3</th>\n",
              "      <td>doesnt know spell conked</td>\n",
              "      <td>1</td>\n",
              "    </tr>\n",
              "    <tr>\n",
              "      <th>4</th>\n",
              "      <td>quotso stand one knows us wont get used wont g...</td>\n",
              "      <td>0</td>\n",
              "    </tr>\n",
              "  </tbody>\n",
              "</table>\n",
              "</div>\n",
              "    <div class=\"colab-df-buttons\">\n",
              "\n",
              "  <div class=\"colab-df-container\">\n",
              "    <button class=\"colab-df-convert\" onclick=\"convertToInteractive('df-02bde8b4-2950-4bf2-a23e-b7c01b1399a2')\"\n",
              "            title=\"Convert this dataframe to an interactive table.\"\n",
              "            style=\"display:none;\">\n",
              "\n",
              "  <svg xmlns=\"http://www.w3.org/2000/svg\" height=\"24px\" viewBox=\"0 -960 960 960\">\n",
              "    <path d=\"M120-120v-720h720v720H120Zm60-500h600v-160H180v160Zm220 220h160v-160H400v160Zm0 220h160v-160H400v160ZM180-400h160v-160H180v160Zm440 0h160v-160H620v160ZM180-180h160v-160H180v160Zm440 0h160v-160H620v160Z\"/>\n",
              "  </svg>\n",
              "    </button>\n",
              "\n",
              "  <style>\n",
              "    .colab-df-container {\n",
              "      display:flex;\n",
              "      gap: 12px;\n",
              "    }\n",
              "\n",
              "    .colab-df-convert {\n",
              "      background-color: #E8F0FE;\n",
              "      border: none;\n",
              "      border-radius: 50%;\n",
              "      cursor: pointer;\n",
              "      display: none;\n",
              "      fill: #1967D2;\n",
              "      height: 32px;\n",
              "      padding: 0 0 0 0;\n",
              "      width: 32px;\n",
              "    }\n",
              "\n",
              "    .colab-df-convert:hover {\n",
              "      background-color: #E2EBFA;\n",
              "      box-shadow: 0px 1px 2px rgba(60, 64, 67, 0.3), 0px 1px 3px 1px rgba(60, 64, 67, 0.15);\n",
              "      fill: #174EA6;\n",
              "    }\n",
              "\n",
              "    .colab-df-buttons div {\n",
              "      margin-bottom: 4px;\n",
              "    }\n",
              "\n",
              "    [theme=dark] .colab-df-convert {\n",
              "      background-color: #3B4455;\n",
              "      fill: #D2E3FC;\n",
              "    }\n",
              "\n",
              "    [theme=dark] .colab-df-convert:hover {\n",
              "      background-color: #434B5C;\n",
              "      box-shadow: 0px 1px 3px 1px rgba(0, 0, 0, 0.15);\n",
              "      filter: drop-shadow(0px 1px 2px rgba(0, 0, 0, 0.3));\n",
              "      fill: #FFFFFF;\n",
              "    }\n",
              "  </style>\n",
              "\n",
              "    <script>\n",
              "      const buttonEl =\n",
              "        document.querySelector('#df-02bde8b4-2950-4bf2-a23e-b7c01b1399a2 button.colab-df-convert');\n",
              "      buttonEl.style.display =\n",
              "        google.colab.kernel.accessAllowed ? 'block' : 'none';\n",
              "\n",
              "      async function convertToInteractive(key) {\n",
              "        const element = document.querySelector('#df-02bde8b4-2950-4bf2-a23e-b7c01b1399a2');\n",
              "        const dataTable =\n",
              "          await google.colab.kernel.invokeFunction('convertToInteractive',\n",
              "                                                    [key], {});\n",
              "        if (!dataTable) return;\n",
              "\n",
              "        const docLinkHtml = 'Like what you see? Visit the ' +\n",
              "          '<a target=\"_blank\" href=https://colab.research.google.com/notebooks/data_table.ipynb>data table notebook</a>'\n",
              "          + ' to learn more about interactive tables.';\n",
              "        element.innerHTML = '';\n",
              "        dataTable['output_type'] = 'display_data';\n",
              "        await google.colab.output.renderOutput(dataTable, element);\n",
              "        const docLink = document.createElement('div');\n",
              "        docLink.innerHTML = docLinkHtml;\n",
              "        element.appendChild(docLink);\n",
              "      }\n",
              "    </script>\n",
              "  </div>\n",
              "\n",
              "\n",
              "    <div id=\"df-112025df-cbbd-4096-bd45-482d11d5e519\">\n",
              "      <button class=\"colab-df-quickchart\" onclick=\"quickchart('df-112025df-cbbd-4096-bd45-482d11d5e519')\"\n",
              "                title=\"Suggest charts\"\n",
              "                style=\"display:none;\">\n",
              "\n",
              "<svg xmlns=\"http://www.w3.org/2000/svg\" height=\"24px\"viewBox=\"0 0 24 24\"\n",
              "     width=\"24px\">\n",
              "    <g>\n",
              "        <path d=\"M19 3H5c-1.1 0-2 .9-2 2v14c0 1.1.9 2 2 2h14c1.1 0 2-.9 2-2V5c0-1.1-.9-2-2-2zM9 17H7v-7h2v7zm4 0h-2V7h2v10zm4 0h-2v-4h2v4z\"/>\n",
              "    </g>\n",
              "</svg>\n",
              "      </button>\n",
              "\n",
              "<style>\n",
              "  .colab-df-quickchart {\n",
              "      --bg-color: #E8F0FE;\n",
              "      --fill-color: #1967D2;\n",
              "      --hover-bg-color: #E2EBFA;\n",
              "      --hover-fill-color: #174EA6;\n",
              "      --disabled-fill-color: #AAA;\n",
              "      --disabled-bg-color: #DDD;\n",
              "  }\n",
              "\n",
              "  [theme=dark] .colab-df-quickchart {\n",
              "      --bg-color: #3B4455;\n",
              "      --fill-color: #D2E3FC;\n",
              "      --hover-bg-color: #434B5C;\n",
              "      --hover-fill-color: #FFFFFF;\n",
              "      --disabled-bg-color: #3B4455;\n",
              "      --disabled-fill-color: #666;\n",
              "  }\n",
              "\n",
              "  .colab-df-quickchart {\n",
              "    background-color: var(--bg-color);\n",
              "    border: none;\n",
              "    border-radius: 50%;\n",
              "    cursor: pointer;\n",
              "    display: none;\n",
              "    fill: var(--fill-color);\n",
              "    height: 32px;\n",
              "    padding: 0;\n",
              "    width: 32px;\n",
              "  }\n",
              "\n",
              "  .colab-df-quickchart:hover {\n",
              "    background-color: var(--hover-bg-color);\n",
              "    box-shadow: 0 1px 2px rgba(60, 64, 67, 0.3), 0 1px 3px 1px rgba(60, 64, 67, 0.15);\n",
              "    fill: var(--button-hover-fill-color);\n",
              "  }\n",
              "\n",
              "  .colab-df-quickchart-complete:disabled,\n",
              "  .colab-df-quickchart-complete:disabled:hover {\n",
              "    background-color: var(--disabled-bg-color);\n",
              "    fill: var(--disabled-fill-color);\n",
              "    box-shadow: none;\n",
              "  }\n",
              "\n",
              "  .colab-df-spinner {\n",
              "    border: 2px solid var(--fill-color);\n",
              "    border-color: transparent;\n",
              "    border-bottom-color: var(--fill-color);\n",
              "    animation:\n",
              "      spin 1s steps(1) infinite;\n",
              "  }\n",
              "\n",
              "  @keyframes spin {\n",
              "    0% {\n",
              "      border-color: transparent;\n",
              "      border-bottom-color: var(--fill-color);\n",
              "      border-left-color: var(--fill-color);\n",
              "    }\n",
              "    20% {\n",
              "      border-color: transparent;\n",
              "      border-left-color: var(--fill-color);\n",
              "      border-top-color: var(--fill-color);\n",
              "    }\n",
              "    30% {\n",
              "      border-color: transparent;\n",
              "      border-left-color: var(--fill-color);\n",
              "      border-top-color: var(--fill-color);\n",
              "      border-right-color: var(--fill-color);\n",
              "    }\n",
              "    40% {\n",
              "      border-color: transparent;\n",
              "      border-right-color: var(--fill-color);\n",
              "      border-top-color: var(--fill-color);\n",
              "    }\n",
              "    60% {\n",
              "      border-color: transparent;\n",
              "      border-right-color: var(--fill-color);\n",
              "    }\n",
              "    80% {\n",
              "      border-color: transparent;\n",
              "      border-right-color: var(--fill-color);\n",
              "      border-bottom-color: var(--fill-color);\n",
              "    }\n",
              "    90% {\n",
              "      border-color: transparent;\n",
              "      border-bottom-color: var(--fill-color);\n",
              "    }\n",
              "  }\n",
              "</style>\n",
              "\n",
              "      <script>\n",
              "        async function quickchart(key) {\n",
              "          const quickchartButtonEl =\n",
              "            document.querySelector('#' + key + ' button');\n",
              "          quickchartButtonEl.disabled = true;  // To prevent multiple clicks.\n",
              "          quickchartButtonEl.classList.add('colab-df-spinner');\n",
              "          try {\n",
              "            const charts = await google.colab.kernel.invokeFunction(\n",
              "                'suggestCharts', [key], {});\n",
              "          } catch (error) {\n",
              "            console.error('Error during call to suggestCharts:', error);\n",
              "          }\n",
              "          quickchartButtonEl.classList.remove('colab-df-spinner');\n",
              "          quickchartButtonEl.classList.add('colab-df-quickchart-complete');\n",
              "        }\n",
              "        (() => {\n",
              "          let quickchartButtonEl =\n",
              "            document.querySelector('#df-112025df-cbbd-4096-bd45-482d11d5e519 button');\n",
              "          quickchartButtonEl.style.display =\n",
              "            google.colab.kernel.accessAllowed ? 'block' : 'none';\n",
              "        })();\n",
              "      </script>\n",
              "    </div>\n",
              "\n",
              "    </div>\n",
              "  </div>\n"
            ],
            "text/plain": [
              "                                                text  sentiment\n",
              "0  lol get ideas far advance even june yet need t...          1\n",
              "1                                worst headache ever          0\n",
              "2  sad wont see miss already yeah thats perfect c...          0\n",
              "3                           doesnt know spell conked          1\n",
              "4  quotso stand one knows us wont get used wont g...          0"
            ]
          },
          "execution_count": 3,
          "metadata": {},
          "output_type": "execute_result"
        }
      ],
      "source": [
        "df_train_data = pd.read_csv(\"../data/train_data.csv\")\n",
        "df_train_data = df_train_data.dropna(subset=[\"text\"])\n",
        "df_train_data.head()"
      ]
    },
    {
      "cell_type": "code",
      "execution_count": null,
      "id": "6dc52d22",
      "metadata": {
        "colab": {
          "base_uri": "https://localhost:8080/",
          "height": 206
        },
        "id": "6dc52d22",
        "outputId": "a5e6be72-f4bb-42aa-ee4f-a95945f22854"
      },
      "outputs": [
        {
          "data": {
            "application/vnd.google.colaboratory.intrinsic+json": {
              "type": "dataframe",
              "variable_name": "df_test_data"
            },
            "text/html": [
              "\n",
              "  <div id=\"df-20db8057-af5e-49c4-99c8-02a614bd73c9\" class=\"colab-df-container\">\n",
              "    <div>\n",
              "<style scoped>\n",
              "    .dataframe tbody tr th:only-of-type {\n",
              "        vertical-align: middle;\n",
              "    }\n",
              "\n",
              "    .dataframe tbody tr th {\n",
              "        vertical-align: top;\n",
              "    }\n",
              "\n",
              "    .dataframe thead th {\n",
              "        text-align: right;\n",
              "    }\n",
              "</style>\n",
              "<table border=\"1\" class=\"dataframe\">\n",
              "  <thead>\n",
              "    <tr style=\"text-align: right;\">\n",
              "      <th></th>\n",
              "      <th>text</th>\n",
              "      <th>sentiment</th>\n",
              "    </tr>\n",
              "  </thead>\n",
              "  <tbody>\n",
              "    <tr>\n",
              "      <th>0</th>\n",
              "      <td>yes black red fav colors really wanted colors ...</td>\n",
              "      <td>0</td>\n",
              "    </tr>\n",
              "    <tr>\n",
              "      <th>1</th>\n",
              "      <td>qu buy open house weekend ampm best value one ...</td>\n",
              "      <td>1</td>\n",
              "    </tr>\n",
              "    <tr>\n",
              "      <th>2</th>\n",
              "      <td>fran greet air thats okay hahahaha thanks</td>\n",
              "      <td>1</td>\n",
              "    </tr>\n",
              "    <tr>\n",
              "      <th>3</th>\n",
              "      <td>omg thats awesome goood luck u meet caaute cal...</td>\n",
              "      <td>1</td>\n",
              "    </tr>\n",
              "    <tr>\n",
              "      <th>4</th>\n",
              "      <td>hahahhaha good point</td>\n",
              "      <td>1</td>\n",
              "    </tr>\n",
              "  </tbody>\n",
              "</table>\n",
              "</div>\n",
              "    <div class=\"colab-df-buttons\">\n",
              "\n",
              "  <div class=\"colab-df-container\">\n",
              "    <button class=\"colab-df-convert\" onclick=\"convertToInteractive('df-20db8057-af5e-49c4-99c8-02a614bd73c9')\"\n",
              "            title=\"Convert this dataframe to an interactive table.\"\n",
              "            style=\"display:none;\">\n",
              "\n",
              "  <svg xmlns=\"http://www.w3.org/2000/svg\" height=\"24px\" viewBox=\"0 -960 960 960\">\n",
              "    <path d=\"M120-120v-720h720v720H120Zm60-500h600v-160H180v160Zm220 220h160v-160H400v160Zm0 220h160v-160H400v160ZM180-400h160v-160H180v160Zm440 0h160v-160H620v160ZM180-180h160v-160H180v160Zm440 0h160v-160H620v160Z\"/>\n",
              "  </svg>\n",
              "    </button>\n",
              "\n",
              "  <style>\n",
              "    .colab-df-container {\n",
              "      display:flex;\n",
              "      gap: 12px;\n",
              "    }\n",
              "\n",
              "    .colab-df-convert {\n",
              "      background-color: #E8F0FE;\n",
              "      border: none;\n",
              "      border-radius: 50%;\n",
              "      cursor: pointer;\n",
              "      display: none;\n",
              "      fill: #1967D2;\n",
              "      height: 32px;\n",
              "      padding: 0 0 0 0;\n",
              "      width: 32px;\n",
              "    }\n",
              "\n",
              "    .colab-df-convert:hover {\n",
              "      background-color: #E2EBFA;\n",
              "      box-shadow: 0px 1px 2px rgba(60, 64, 67, 0.3), 0px 1px 3px 1px rgba(60, 64, 67, 0.15);\n",
              "      fill: #174EA6;\n",
              "    }\n",
              "\n",
              "    .colab-df-buttons div {\n",
              "      margin-bottom: 4px;\n",
              "    }\n",
              "\n",
              "    [theme=dark] .colab-df-convert {\n",
              "      background-color: #3B4455;\n",
              "      fill: #D2E3FC;\n",
              "    }\n",
              "\n",
              "    [theme=dark] .colab-df-convert:hover {\n",
              "      background-color: #434B5C;\n",
              "      box-shadow: 0px 1px 3px 1px rgba(0, 0, 0, 0.15);\n",
              "      filter: drop-shadow(0px 1px 2px rgba(0, 0, 0, 0.3));\n",
              "      fill: #FFFFFF;\n",
              "    }\n",
              "  </style>\n",
              "\n",
              "    <script>\n",
              "      const buttonEl =\n",
              "        document.querySelector('#df-20db8057-af5e-49c4-99c8-02a614bd73c9 button.colab-df-convert');\n",
              "      buttonEl.style.display =\n",
              "        google.colab.kernel.accessAllowed ? 'block' : 'none';\n",
              "\n",
              "      async function convertToInteractive(key) {\n",
              "        const element = document.querySelector('#df-20db8057-af5e-49c4-99c8-02a614bd73c9');\n",
              "        const dataTable =\n",
              "          await google.colab.kernel.invokeFunction('convertToInteractive',\n",
              "                                                    [key], {});\n",
              "        if (!dataTable) return;\n",
              "\n",
              "        const docLinkHtml = 'Like what you see? Visit the ' +\n",
              "          '<a target=\"_blank\" href=https://colab.research.google.com/notebooks/data_table.ipynb>data table notebook</a>'\n",
              "          + ' to learn more about interactive tables.';\n",
              "        element.innerHTML = '';\n",
              "        dataTable['output_type'] = 'display_data';\n",
              "        await google.colab.output.renderOutput(dataTable, element);\n",
              "        const docLink = document.createElement('div');\n",
              "        docLink.innerHTML = docLinkHtml;\n",
              "        element.appendChild(docLink);\n",
              "      }\n",
              "    </script>\n",
              "  </div>\n",
              "\n",
              "\n",
              "    <div id=\"df-52a7ba3c-eea3-4a13-b4a8-f12a20b4ff33\">\n",
              "      <button class=\"colab-df-quickchart\" onclick=\"quickchart('df-52a7ba3c-eea3-4a13-b4a8-f12a20b4ff33')\"\n",
              "                title=\"Suggest charts\"\n",
              "                style=\"display:none;\">\n",
              "\n",
              "<svg xmlns=\"http://www.w3.org/2000/svg\" height=\"24px\"viewBox=\"0 0 24 24\"\n",
              "     width=\"24px\">\n",
              "    <g>\n",
              "        <path d=\"M19 3H5c-1.1 0-2 .9-2 2v14c0 1.1.9 2 2 2h14c1.1 0 2-.9 2-2V5c0-1.1-.9-2-2-2zM9 17H7v-7h2v7zm4 0h-2V7h2v10zm4 0h-2v-4h2v4z\"/>\n",
              "    </g>\n",
              "</svg>\n",
              "      </button>\n",
              "\n",
              "<style>\n",
              "  .colab-df-quickchart {\n",
              "      --bg-color: #E8F0FE;\n",
              "      --fill-color: #1967D2;\n",
              "      --hover-bg-color: #E2EBFA;\n",
              "      --hover-fill-color: #174EA6;\n",
              "      --disabled-fill-color: #AAA;\n",
              "      --disabled-bg-color: #DDD;\n",
              "  }\n",
              "\n",
              "  [theme=dark] .colab-df-quickchart {\n",
              "      --bg-color: #3B4455;\n",
              "      --fill-color: #D2E3FC;\n",
              "      --hover-bg-color: #434B5C;\n",
              "      --hover-fill-color: #FFFFFF;\n",
              "      --disabled-bg-color: #3B4455;\n",
              "      --disabled-fill-color: #666;\n",
              "  }\n",
              "\n",
              "  .colab-df-quickchart {\n",
              "    background-color: var(--bg-color);\n",
              "    border: none;\n",
              "    border-radius: 50%;\n",
              "    cursor: pointer;\n",
              "    display: none;\n",
              "    fill: var(--fill-color);\n",
              "    height: 32px;\n",
              "    padding: 0;\n",
              "    width: 32px;\n",
              "  }\n",
              "\n",
              "  .colab-df-quickchart:hover {\n",
              "    background-color: var(--hover-bg-color);\n",
              "    box-shadow: 0 1px 2px rgba(60, 64, 67, 0.3), 0 1px 3px 1px rgba(60, 64, 67, 0.15);\n",
              "    fill: var(--button-hover-fill-color);\n",
              "  }\n",
              "\n",
              "  .colab-df-quickchart-complete:disabled,\n",
              "  .colab-df-quickchart-complete:disabled:hover {\n",
              "    background-color: var(--disabled-bg-color);\n",
              "    fill: var(--disabled-fill-color);\n",
              "    box-shadow: none;\n",
              "  }\n",
              "\n",
              "  .colab-df-spinner {\n",
              "    border: 2px solid var(--fill-color);\n",
              "    border-color: transparent;\n",
              "    border-bottom-color: var(--fill-color);\n",
              "    animation:\n",
              "      spin 1s steps(1) infinite;\n",
              "  }\n",
              "\n",
              "  @keyframes spin {\n",
              "    0% {\n",
              "      border-color: transparent;\n",
              "      border-bottom-color: var(--fill-color);\n",
              "      border-left-color: var(--fill-color);\n",
              "    }\n",
              "    20% {\n",
              "      border-color: transparent;\n",
              "      border-left-color: var(--fill-color);\n",
              "      border-top-color: var(--fill-color);\n",
              "    }\n",
              "    30% {\n",
              "      border-color: transparent;\n",
              "      border-left-color: var(--fill-color);\n",
              "      border-top-color: var(--fill-color);\n",
              "      border-right-color: var(--fill-color);\n",
              "    }\n",
              "    40% {\n",
              "      border-color: transparent;\n",
              "      border-right-color: var(--fill-color);\n",
              "      border-top-color: var(--fill-color);\n",
              "    }\n",
              "    60% {\n",
              "      border-color: transparent;\n",
              "      border-right-color: var(--fill-color);\n",
              "    }\n",
              "    80% {\n",
              "      border-color: transparent;\n",
              "      border-right-color: var(--fill-color);\n",
              "      border-bottom-color: var(--fill-color);\n",
              "    }\n",
              "    90% {\n",
              "      border-color: transparent;\n",
              "      border-bottom-color: var(--fill-color);\n",
              "    }\n",
              "  }\n",
              "</style>\n",
              "\n",
              "      <script>\n",
              "        async function quickchart(key) {\n",
              "          const quickchartButtonEl =\n",
              "            document.querySelector('#' + key + ' button');\n",
              "          quickchartButtonEl.disabled = true;  // To prevent multiple clicks.\n",
              "          quickchartButtonEl.classList.add('colab-df-spinner');\n",
              "          try {\n",
              "            const charts = await google.colab.kernel.invokeFunction(\n",
              "                'suggestCharts', [key], {});\n",
              "          } catch (error) {\n",
              "            console.error('Error during call to suggestCharts:', error);\n",
              "          }\n",
              "          quickchartButtonEl.classList.remove('colab-df-spinner');\n",
              "          quickchartButtonEl.classList.add('colab-df-quickchart-complete');\n",
              "        }\n",
              "        (() => {\n",
              "          let quickchartButtonEl =\n",
              "            document.querySelector('#df-52a7ba3c-eea3-4a13-b4a8-f12a20b4ff33 button');\n",
              "          quickchartButtonEl.style.display =\n",
              "            google.colab.kernel.accessAllowed ? 'block' : 'none';\n",
              "        })();\n",
              "      </script>\n",
              "    </div>\n",
              "\n",
              "    </div>\n",
              "  </div>\n"
            ],
            "text/plain": [
              "                                                text  sentiment\n",
              "0  yes black red fav colors really wanted colors ...          0\n",
              "1  qu buy open house weekend ampm best value one ...          1\n",
              "2          fran greet air thats okay hahahaha thanks          1\n",
              "3  omg thats awesome goood luck u meet caaute cal...          1\n",
              "4                               hahahhaha good point          1"
            ]
          },
          "execution_count": 4,
          "metadata": {},
          "output_type": "execute_result"
        }
      ],
      "source": [
        "df_test_data = pd.read_csv(\"../data/test_data.csv\")\n",
        "df_test_data = df_test_data.dropna(subset=[\"text\"])\n",
        "df_test_data.head()"
      ]
    },
    {
      "cell_type": "code",
      "execution_count": 5,
      "id": "3970f143",
      "metadata": {
        "colab": {
          "base_uri": "https://localhost:8080/",
          "height": 410
        },
        "id": "3970f143",
        "outputId": "22cf85b4-267b-4128-9c2a-30571236c05a"
      },
      "outputs": [
        {
          "data": {
            "image/png": "[encoded data removed]",
            "text/plain": [
              "<Figure size 600x400 with 1 Axes>"
            ]
          },
          "metadata": {},
          "output_type": "display_data"
        }
      ],
      "source": [
        "plt.figure(figsize=(6, 4))\n",
        "sns.countplot(data=df_train_data, x=\"sentiment\")\n",
        "plt.title(\"Train data Sentiment Distribution\")\n",
        "plt.xlabel(\"Sentiment\")\n",
        "plt.ylabel(\"Count\")\n",
        "plt.show()"
      ]
    },
    {
      "cell_type": "code",
      "execution_count": 6,
      "id": "b78c077b",
      "metadata": {
        "colab": {
          "base_uri": "https://localhost:8080/",
          "height": 410
        },
        "id": "b78c077b",
        "outputId": "975e1a9a-9885-43f5-aea3-dc4540b1192c"
      },
      "outputs": [
        {
          "data": {
            "image/png": "[encoded data removed]",
            "text/plain": [
              "<Figure size 600x400 with 1 Axes>"
            ]
          },
          "metadata": {},
          "output_type": "display_data"
        }
      ],
      "source": [
        "plt.figure(figsize=(6, 4))\n",
        "sns.countplot(data=df_test_data, x=\"sentiment\")\n",
        "plt.title(\"Test data Sentiment Distribution\")\n",
        "plt.xlabel(\"Sentiment\")\n",
        "plt.ylabel(\"Count\")\n",
        "plt.show()"
      ]
    },
    {
      "cell_type": "markdown",
      "id": "d471c2ca",
      "metadata": {
        "id": "d471c2ca"
      },
      "source": [
        "Tokenizer"
      ]
    },
    {
      "cell_type": "code",
      "execution_count": 7,
      "id": "e18d50c8",
      "metadata": {
        "colab": {
          "base_uri": "https://localhost:8080/",
          "height": 109
        },
        "id": "e18d50c8",
        "outputId": "f47f008e-0464-425c-a23c-b9c633082761"
      },
      "outputs": [
        {
          "data": {
            "application/vnd.google.colaboratory.intrinsic+json": {
              "type": "string"
            },
            "text/plain": [
              "'\\ntokenizer = Tokenizer(oov_token=\"<OOV>\")\\ntokenizer.fit_on_texts(df_train_data[\"text\"])\\n# Frequency-sorted list\\nword_counts = tokenizer.word_counts  # word -> count dictionary\\nword_freq_df = pd.DataFrame(word_counts.items(), columns=[\"word\", \"count\"]).sort_values(by=\"count\", ascending=False)\\ncounts = word_freq_df[\"count\"].values\\ncounts_sorted = np.sort(counts)[::-1]  # Descending\\n\\n# Cumulative token coverage\\ntotal_tokens = counts_sorted.sum()\\ncoverage = np.cumsum(counts_sorted) / total_tokens\\n\\n# Find cutoff for 95% and 99% coverage\\ncutoff_95 = np.argmax(coverage >= 0.95)\\ncutoff_99 = np.argmax(coverage >= 0.99)\\n\\nprint(f\"Words needed for 95% coverage: {cutoff_95}\")\\nprint(f\"Words needed for 99% coverage: {cutoff_99}\")\\n'"
            ]
          },
          "execution_count": 7,
          "metadata": {},
          "output_type": "execute_result"
        }
      ],
      "source": [
        "'''\n",
        "tokenizer = Tokenizer(oov_token=\"<OOV>\")\n",
        "tokenizer.fit_on_texts(df_train_data[\"text\"])\n",
        "# Frequency-sorted list\n",
        "word_counts = tokenizer.word_counts  # word -> count dictionary\n",
        "word_freq_df = pd.DataFrame(word_counts.items(), columns=[\"word\", \"count\"]).sort_values(by=\"count\", ascending=False)\n",
        "counts = word_freq_df[\"count\"].values\n",
        "counts_sorted = np.sort(counts)[::-1]  # Descending\n",
        "\n",
        "# Cumulative token coverage\n",
        "total_tokens = counts_sorted.sum()\n",
        "coverage = np.cumsum(counts_sorted) / total_tokens\n",
        "\n",
        "# Find cutoff for 95% and 99% coverage\n",
        "cutoff_95 = np.argmax(coverage >= 0.95)\n",
        "cutoff_99 = np.argmax(coverage >= 0.99)\n",
        "\n",
        "print(f\"Words needed for 95% coverage: {cutoff_95}\")\n",
        "print(f\"Words needed for 99% coverage: {cutoff_99}\")\n",
        "'''"
      ]
    },
    {
      "cell_type": "code",
      "execution_count": 8,
      "id": "18bc4bd3",
      "metadata": {
        "id": "18bc4bd3"
      },
      "outputs": [],
      "source": [
        "tokenizer = Tokenizer(num_words=50000, oov_token=\"<OOV>\")\n",
        "tokenizer.fit_on_texts(df_train_data[\"text\"])"
      ]
    },
    {
      "cell_type": "code",
      "execution_count": 9,
      "id": "deec55c1",
      "metadata": {
        "id": "deec55c1"
      },
      "outputs": [],
      "source": [
        "sequences = tokenizer.texts_to_sequences(df_train_data['text'])\n",
        "test_sequences = tokenizer.texts_to_sequences(df_test_data['text'])\n",
        "\n",
        "max_len = max(len(seq) for seq in sequences)\n",
        "\n",
        "X_train = pad_sequences(sequences, maxlen=max_len, padding='post')\n",
        "X_test = pad_sequences(test_sequences, maxlen=max_len, padding='post')\n",
        "\n",
        "y_train = df_train_data['sentiment'].values\n",
        "y_test = df_test_data['sentiment'].values\n",
        "\n",
        "X_train, X_val, y_train, y_val = train_test_split(X_train, y_train, test_size=0.2, random_state=42)"
      ]
    },
    {
      "cell_type": "markdown",
      "id": "eff05755",
      "metadata": {
        "id": "eff05755"
      },
      "source": [
        "RNN-LSTM Model"
      ]
    },
    {
      "cell_type": "code",
      "execution_count": 10,
      "id": "8feaf561",
      "metadata": {
        "colab": {
          "base_uri": "https://localhost:8080/"
        },
        "id": "8feaf561",
        "outputId": "59febc06-69df-4dca-a564-8fddcb0a589f"
      },
      "outputs": [
        {
          "name": "stderr",
          "output_type": "stream",
          "text": [
            "/usr/local/lib/python3.11/dist-packages/keras/src/layers/core/embedding.py:90: UserWarning: Argument `input_length` is deprecated. Just remove it.\n",
            "  warnings.warn(\n"
          ]
        }
      ],
      "source": [
        "# Define the model\n",
        "model = Sequential([\n",
        "    Embedding(input_dim=50000, output_dim=64, input_length=max_len),\n",
        "    Bidirectional(LSTM(64, return_sequences=True)),\n",
        "    Dropout(0.5),\n",
        "    Bidirectional(LSTM(32, return_sequences=False)),\n",
        "    Dense(32, activation='relu'),\n",
        "    Dense(1, activation='sigmoid')\n",
        "])"
      ]
    },
    {
      "cell_type": "code",
      "execution_count": 11,
      "id": "8304149c",
      "metadata": {
        "colab": {
          "base_uri": "https://localhost:8080/",
          "height": 321
        },
        "id": "8304149c",
        "outputId": "b1a2232d-e6d4-4e72-92e5-2cb9668ba661"
      },
      "outputs": [
        {
          "data": {
            "text/html": [
              "<pre style=\"white-space:pre;overflow-x:auto;line-height:normal;font-family:Menlo,'DejaVu Sans Mono',consolas,'Courier New',monospace\"><span style=\"font-weight: bold\">Model: \"sequential\"</span>\n",
              "</pre>\n"
            ],
            "text/plain": [
              "\u001b[1mModel: \"sequential\"\u001b[0m\n"
            ]
          },
          "metadata": {},
          "output_type": "display_data"
        },
        {
          "data": {
            "text/html": [
              "<pre style=\"white-space:pre;overflow-x:auto;line-height:normal;font-family:Menlo,'DejaVu Sans Mono',consolas,'Courier New',monospace\">┏━━━━━━━━━━━━━━━━━━━━━━━━━━━━━━━━━┳━━━━━━━━━━━━━━━━━━━━━━━━┳━━━━━━━━━━━━━━━┓\n",
              "┃<span style=\"font-weight: bold\"> Layer (type)                    </span>┃<span style=\"font-weight: bold\"> Output Shape           </span>┃<span style=\"font-weight: bold\">       Param # </span>┃\n",
              "┡━━━━━━━━━━━━━━━━━━━━━━━━━━━━━━━━━╇━━━━━━━━━━━━━━━━━━━━━━━━╇━━━━━━━━━━━━━━━┩\n",
              "│ embedding (<span style=\"color: #0087ff; text-decoration-color: #0087ff\">Embedding</span>)           │ ?                      │   <span style=\"color: #00af00; text-decoration-color: #00af00\">0</span> (unbuilt) │\n",
              "├─────────────────────────────────┼────────────────────────┼───────────────┤\n",
              "│ bidirectional (<span style=\"color: #0087ff; text-decoration-color: #0087ff\">Bidirectional</span>)   │ ?                      │   <span style=\"color: #00af00; text-decoration-color: #00af00\">0</span> (unbuilt) │\n",
              "├─────────────────────────────────┼────────────────────────┼───────────────┤\n",
              "│ dropout (<span style=\"color: #0087ff; text-decoration-color: #0087ff\">Dropout</span>)               │ ?                      │             <span style=\"color: #00af00; text-decoration-color: #00af00\">0</span> │\n",
              "├─────────────────────────────────┼────────────────────────┼───────────────┤\n",
              "│ bidirectional_1 (<span style=\"color: #0087ff; text-decoration-color: #0087ff\">Bidirectional</span>) │ ?                      │   <span style=\"color: #00af00; text-decoration-color: #00af00\">0</span> (unbuilt) │\n",
              "├─────────────────────────────────┼────────────────────────┼───────────────┤\n",
              "│ dense (<span style=\"color: #0087ff; text-decoration-color: #0087ff\">Dense</span>)                   │ ?                      │   <span style=\"color: #00af00; text-decoration-color: #00af00\">0</span> (unbuilt) │\n",
              "├─────────────────────────────────┼────────────────────────┼───────────────┤\n",
              "│ dense_1 (<span style=\"color: #0087ff; text-decoration-color: #0087ff\">Dense</span>)                 │ ?                      │   <span style=\"color: #00af00; text-decoration-color: #00af00\">0</span> (unbuilt) │\n",
              "└─────────────────────────────────┴────────────────────────┴───────────────┘\n",
              "</pre>\n"
            ],
            "text/plain": [
              "┏━━━━━━━━━━━━━━━━━━━━━━━━━━━━━━━━━┳━━━━━━━━━━━━━━━━━━━━━━━━┳━━━━━━━━━━━━━━━┓\n",
              "┃\u001b[1m \u001b[0m\u001b[1mLayer (type)                   \u001b[0m\u001b[1m \u001b[0m┃\u001b[1m \u001b[0m\u001b[1mOutput Shape          \u001b[0m\u001b[1m \u001b[0m┃\u001b[1m \u001b[0m\u001b[1m      Param #\u001b[0m\u001b[1m \u001b[0m┃\n",
              "┡━━━━━━━━━━━━━━━━━━━━━━━━━━━━━━━━━╇━━━━━━━━━━━━━━━━━━━━━━━━╇━━━━━━━━━━━━━━━┩\n",
              "│ embedding (\u001b[38;5;33mEmbedding\u001b[0m)           │ ?                      │   \u001b[38;5;34m0\u001b[0m (unbuilt) │\n",
              "├─────────────────────────────────┼────────────────────────┼───────────────┤\n",
              "│ bidirectional (\u001b[38;5;33mBidirectional\u001b[0m)   │ ?                      │   \u001b[38;5;34m0\u001b[0m (unbuilt) │\n",
              "├─────────────────────────────────┼────────────────────────┼───────────────┤\n",
              "│ dropout (\u001b[38;5;33mDropout\u001b[0m)               │ ?                      │             \u001b[38;5;34m0\u001b[0m │\n",
              "├─────────────────────────────────┼────────────────────────┼───────────────┤\n",
              "│ bidirectional_1 (\u001b[38;5;33mBidirectional\u001b[0m) │ ?                      │   \u001b[38;5;34m0\u001b[0m (unbuilt) │\n",
              "├─────────────────────────────────┼────────────────────────┼───────────────┤\n",
              "│ dense (\u001b[38;5;33mDense\u001b[0m)                   │ ?                      │   \u001b[38;5;34m0\u001b[0m (unbuilt) │\n",
              "├─────────────────────────────────┼────────────────────────┼───────────────┤\n",
              "│ dense_1 (\u001b[38;5;33mDense\u001b[0m)                 │ ?                      │   \u001b[38;5;34m0\u001b[0m (unbuilt) │\n",
              "└─────────────────────────────────┴────────────────────────┴───────────────┘\n"
            ]
          },
          "metadata": {},
          "output_type": "display_data"
        },
        {
          "data": {
            "text/html": [
              "<pre style=\"white-space:pre;overflow-x:auto;line-height:normal;font-family:Menlo,'DejaVu Sans Mono',consolas,'Courier New',monospace\"><span style=\"font-weight: bold\"> Total params: </span><span style=\"color: #00af00; text-decoration-color: #00af00\">0</span> (0.00 B)\n",
              "</pre>\n"
            ],
            "text/plain": [
              "\u001b[1m Total params: \u001b[0m\u001b[38;5;34m0\u001b[0m (0.00 B)\n"
            ]
          },
          "metadata": {},
          "output_type": "display_data"
        },
        {
          "data": {
            "text/html": [
              "<pre style=\"white-space:pre;overflow-x:auto;line-height:normal;font-family:Menlo,'DejaVu Sans Mono',consolas,'Courier New',monospace\"><span style=\"font-weight: bold\"> Trainable params: </span><span style=\"color: #00af00; text-decoration-color: #00af00\">0</span> (0.00 B)\n",
              "</pre>\n"
            ],
            "text/plain": [
              "\u001b[1m Trainable params: \u001b[0m\u001b[38;5;34m0\u001b[0m (0.00 B)\n"
            ]
          },
          "metadata": {},
          "output_type": "display_data"
        },
        {
          "data": {
            "text/html": [
              "<pre style=\"white-space:pre;overflow-x:auto;line-height:normal;font-family:Menlo,'DejaVu Sans Mono',consolas,'Courier New',monospace\"><span style=\"font-weight: bold\"> Non-trainable params: </span><span style=\"color: #00af00; text-decoration-color: #00af00\">0</span> (0.00 B)\n",
              "</pre>\n"
            ],
            "text/plain": [
              "\u001b[1m Non-trainable params: \u001b[0m\u001b[38;5;34m0\u001b[0m (0.00 B)\n"
            ]
          },
          "metadata": {},
          "output_type": "display_data"
        }
      ],
      "source": [
        "model.compile(loss='binary_crossentropy', optimizer='adam', metrics=['accuracy'])\n",
        "model.summary()"
      ]
    },
    {
      "cell_type": "markdown",
      "id": "20b5460a",
      "metadata": {
        "id": "20b5460a"
      },
      "source": [
        "Model fit"
      ]
    },
    {
      "cell_type": "code",
      "execution_count": 12,
      "id": "88f60f2e",
      "metadata": {
        "colab": {
          "base_uri": "https://localhost:8080/"
        },
        "id": "88f60f2e",
        "outputId": "f34ede3b-69a4-4058-ca3a-43cc3d1af729"
      },
      "outputs": [
        {
          "name": "stdout",
          "output_type": "stream",
          "text": [
            "Epoch 1/30\n",
            "\u001b[1m15923/15923\u001b[0m \u001b[32m━━━━━━━━━━━━━━━━━━━━\u001b[0m\u001b[37m\u001b[0m \u001b[1m238s\u001b[0m 14ms/step - accuracy: 0.7661 - loss: 0.4804 - val_accuracy: 0.7956 - val_loss: 0.4380\n",
            "Epoch 2/30\n",
            "\u001b[1m15923/15923\u001b[0m \u001b[32m━━━━━━━━━━━━━━━━━━━━\u001b[0m\u001b[37m\u001b[0m \u001b[1m259s\u001b[0m 14ms/step - accuracy: 0.8104 - loss: 0.4112 - val_accuracy: 0.7965 - val_loss: 0.4354\n",
            "Epoch 3/30\n",
            "\u001b[1m15923/15923\u001b[0m \u001b[32m━━━━━━━━━━━━━━━━━━━━\u001b[0m\u001b[37m\u001b[0m \u001b[1m230s\u001b[0m 14ms/step - accuracy: 0.8287 - loss: 0.3804 - val_accuracy: 0.7954 - val_loss: 0.4384\n",
            "Epoch 4/30\n",
            "\u001b[1m15923/15923\u001b[0m \u001b[32m━━━━━━━━━━━━━━━━━━━━\u001b[0m\u001b[37m\u001b[0m \u001b[1m230s\u001b[0m 14ms/step - accuracy: 0.8450 - loss: 0.3508 - val_accuracy: 0.7907 - val_loss: 0.4594\n",
            "Epoch 5/30\n",
            "\u001b[1m15923/15923\u001b[0m \u001b[32m━━━━━━━━━━━━━━━━━━━━\u001b[0m\u001b[37m\u001b[0m \u001b[1m262s\u001b[0m 14ms/step - accuracy: 0.8611 - loss: 0.3180 - val_accuracy: 0.7837 - val_loss: 0.4846\n",
            "Epoch 6/30\n",
            "\u001b[1m15923/15923\u001b[0m \u001b[32m━━━━━━━━━━━━━━━━━━━━\u001b[0m\u001b[37m\u001b[0m \u001b[1m265s\u001b[0m 15ms/step - accuracy: 0.8747 - loss: 0.2892 - val_accuracy: 0.7824 - val_loss: 0.5081\n",
            "Epoch 7/30\n",
            "\u001b[1m15923/15923\u001b[0m \u001b[32m━━━━━━━━━━━━━━━━━━━━\u001b[0m\u001b[37m\u001b[0m \u001b[1m258s\u001b[0m 14ms/step - accuracy: 0.8875 - loss: 0.2626 - val_accuracy: 0.7764 - val_loss: 0.5595\n",
            "Epoch 8/30\n",
            "\u001b[1m15923/15923\u001b[0m \u001b[32m━━━━━━━━━━━━━━━━━━━━\u001b[0m\u001b[37m\u001b[0m \u001b[1m250s\u001b[0m 16ms/step - accuracy: 0.8966 - loss: 0.2419 - val_accuracy: 0.7751 - val_loss: 0.6132\n",
            "Epoch 9/30\n",
            "\u001b[1m15923/15923\u001b[0m \u001b[32m━━━━━━━━━━━━━━━━━━━━\u001b[0m\u001b[37m\u001b[0m \u001b[1m228s\u001b[0m 14ms/step - accuracy: 0.9040 - loss: 0.2248 - val_accuracy: 0.7712 - val_loss: 0.6194\n",
            "Epoch 10/30\n",
            "\u001b[1m15923/15923\u001b[0m \u001b[32m━━━━━━━━━━━━━━━━━━━━\u001b[0m\u001b[37m\u001b[0m \u001b[1m261s\u001b[0m 14ms/step - accuracy: 0.9113 - loss: 0.2094 - val_accuracy: 0.7657 - val_loss: 0.7282\n",
            "Epoch 11/30\n",
            "\u001b[1m15923/15923\u001b[0m \u001b[32m━━━━━━━━━━━━━━━━━━━━\u001b[0m\u001b[37m\u001b[0m \u001b[1m231s\u001b[0m 14ms/step - accuracy: 0.9160 - loss: 0.1978 - val_accuracy: 0.7651 - val_loss: 0.7482\n",
            "Epoch 12/30\n",
            "\u001b[1m15923/15923\u001b[0m \u001b[32m━━━━━━━━━━━━━━━━━━━━\u001b[0m\u001b[37m\u001b[0m \u001b[1m264s\u001b[0m 15ms/step - accuracy: 0.9214 - loss: 0.1858 - val_accuracy: 0.7620 - val_loss: 0.8028\n",
            "Epoch 13/30\n",
            "\u001b[1m15923/15923\u001b[0m \u001b[32m━━━━━━━━━━━━━━━━━━━━\u001b[0m\u001b[37m\u001b[0m \u001b[1m232s\u001b[0m 15ms/step - accuracy: 0.9249 - loss: 0.1771 - val_accuracy: 0.7607 - val_loss: 0.7747\n",
            "Epoch 14/30\n",
            "\u001b[1m15923/15923\u001b[0m \u001b[32m━━━━━━━━━━━━━━━━━━━━\u001b[0m\u001b[37m\u001b[0m \u001b[1m263s\u001b[0m 15ms/step - accuracy: 0.9286 - loss: 0.1689 - val_accuracy: 0.7574 - val_loss: 0.8663\n",
            "Epoch 15/30\n",
            "\u001b[1m15923/15923\u001b[0m \u001b[32m━━━━━━━━━━━━━━━━━━━━\u001b[0m\u001b[37m\u001b[0m \u001b[1m260s\u001b[0m 15ms/step - accuracy: 0.9316 - loss: 0.1625 - val_accuracy: 0.7565 - val_loss: 0.8964\n",
            "Epoch 16/30\n",
            "\u001b[1m15923/15923\u001b[0m \u001b[32m━━━━━━━━━━━━━━━━━━━━\u001b[0m\u001b[37m\u001b[0m \u001b[1m260s\u001b[0m 14ms/step - accuracy: 0.9341 - loss: 0.1565 - val_accuracy: 0.7605 - val_loss: 0.9026\n",
            "Epoch 17/30\n",
            "\u001b[1m15923/15923\u001b[0m \u001b[32m━━━━━━━━━━━━━━━━━━━━\u001b[0m\u001b[37m\u001b[0m \u001b[1m260s\u001b[0m 14ms/step - accuracy: 0.9368 - loss: 0.1510 - val_accuracy: 0.7565 - val_loss: 0.8697\n",
            "Epoch 18/30\n",
            "\u001b[1m15923/15923\u001b[0m \u001b[32m━━━━━━━━━━━━━━━━━━━━\u001b[0m\u001b[37m\u001b[0m \u001b[1m229s\u001b[0m 14ms/step - accuracy: 0.9388 - loss: 0.1460 - val_accuracy: 0.7566 - val_loss: 0.9051\n",
            "Epoch 19/30\n",
            "\u001b[1m15923/15923\u001b[0m \u001b[32m━━━━━━━━━━━━━━━━━━━━\u001b[0m\u001b[37m\u001b[0m \u001b[1m261s\u001b[0m 14ms/step - accuracy: 0.9407 - loss: 0.1424 - val_accuracy: 0.7547 - val_loss: 0.9476\n",
            "Epoch 20/30\n",
            "\u001b[1m15923/15923\u001b[0m \u001b[32m━━━━━━━━━━━━━━━━━━━━\u001b[0m\u001b[37m\u001b[0m \u001b[1m227s\u001b[0m 14ms/step - accuracy: 0.9424 - loss: 0.1381 - val_accuracy: 0.7533 - val_loss: 0.9607\n",
            "Epoch 21/30\n",
            "\u001b[1m15923/15923\u001b[0m \u001b[32m━━━━━━━━━━━━━━━━━━━━\u001b[0m\u001b[37m\u001b[0m \u001b[1m283s\u001b[0m 16ms/step - accuracy: 0.9439 - loss: 0.1350 - val_accuracy: 0.7523 - val_loss: 0.9633\n",
            "Epoch 22/30\n",
            "\u001b[1m15923/15923\u001b[0m \u001b[32m━━━━━━━━━━━━━━━━━━━━\u001b[0m\u001b[37m\u001b[0m \u001b[1m244s\u001b[0m 14ms/step - accuracy: 0.9450 - loss: 0.1314 - val_accuracy: 0.7528 - val_loss: 0.9716\n",
            "Epoch 23/30\n",
            "\u001b[1m15923/15923\u001b[0m \u001b[32m━━━━━━━━━━━━━━━━━━━━\u001b[0m\u001b[37m\u001b[0m \u001b[1m261s\u001b[0m 14ms/step - accuracy: 0.9461 - loss: 0.1289 - val_accuracy: 0.7513 - val_loss: 0.9838\n",
            "Epoch 24/30\n",
            "\u001b[1m15923/15923\u001b[0m \u001b[32m━━━━━━━━━━━━━━━━━━━━\u001b[0m\u001b[37m\u001b[0m \u001b[1m262s\u001b[0m 14ms/step - accuracy: 0.9473 - loss: 0.1262 - val_accuracy: 0.7544 - val_loss: 1.0080\n",
            "Epoch 25/30\n",
            "\u001b[1m15923/15923\u001b[0m \u001b[32m━━━━━━━━━━━━━━━━━━━━\u001b[0m\u001b[37m\u001b[0m \u001b[1m263s\u001b[0m 14ms/step - accuracy: 0.9480 - loss: 0.1250 - val_accuracy: 0.7510 - val_loss: 0.9727\n",
            "Epoch 26/30\n",
            "\u001b[1m15923/15923\u001b[0m \u001b[32m━━━━━━━━━━━━━━━━━━━━\u001b[0m\u001b[37m\u001b[0m \u001b[1m261s\u001b[0m 14ms/step - accuracy: 0.9489 - loss: 0.1225 - val_accuracy: 0.7511 - val_loss: 1.0578\n",
            "Epoch 27/30\n",
            "\u001b[1m15923/15923\u001b[0m \u001b[32m━━━━━━━━━━━━━━━━━━━━\u001b[0m\u001b[37m\u001b[0m \u001b[1m261s\u001b[0m 14ms/step - accuracy: 0.9500 - loss: 0.1199 - val_accuracy: 0.7494 - val_loss: 1.0163\n",
            "Epoch 28/30\n",
            "\u001b[1m15923/15923\u001b[0m \u001b[32m━━━━━━━━━━━━━━━━━━━━\u001b[0m\u001b[37m\u001b[0m \u001b[1m263s\u001b[0m 14ms/step - accuracy: 0.9507 - loss: 0.1182 - val_accuracy: 0.7492 - val_loss: 1.0846\n",
            "Epoch 29/30\n",
            "\u001b[1m15923/15923\u001b[0m \u001b[32m━━━━━━━━━━━━━━━━━━━━\u001b[0m\u001b[37m\u001b[0m \u001b[1m262s\u001b[0m 14ms/step - accuracy: 0.9519 - loss: 0.1164 - val_accuracy: 0.7491 - val_loss: 1.0080\n",
            "Epoch 30/30\n",
            "\u001b[1m15923/15923\u001b[0m \u001b[32m━━━━━━━━━━━━━━━━━━━━\u001b[0m\u001b[37m\u001b[0m \u001b[1m263s\u001b[0m 14ms/step - accuracy: 0.9527 - loss: 0.1144 - val_accuracy: 0.7496 - val_loss: 1.0857\n"
          ]
        }
      ],
      "source": [
        "from tensorflow.keras.callbacks import EarlyStopping, ReduceLROnPlateau\n",
        "\n",
        "history = model.fit(\n",
        "    X_train, y_train,\n",
        "    epochs=30,\n",
        "    batch_size=64,\n",
        "    validation_data=(X_val, y_val)\n",
        ")"
      ]
    },
    {
      "cell_type": "code",
      "execution_count": 13,
      "id": "ikoybJ_FlCLW",
      "metadata": {
        "colab": {
          "base_uri": "https://localhost:8080/",
          "height": 488
        },
        "id": "ikoybJ_FlCLW",
        "outputId": "7f572ac9-3bc3-4cd8-c25d-a244e733d031"
      },
      "outputs": [
        {
          "data": {
            "image/png": "[encoded data removed]",
            "text/plain": [
              "<Figure size 1200x500 with 2 Axes>"
            ]
          },
          "metadata": {},
          "output_type": "display_data"
        }
      ],
      "source": [
        "plt.figure(figsize=(12, 5))\n",
        "plt.subplot(1, 2, 1)\n",
        "plt.plot(history.history['accuracy'], label='Trenowanie')\n",
        "plt.plot(history.history['val_accuracy'], label='Walidacja')\n",
        "plt.title('Wykres dokładności')\n",
        "plt.grid(True)\n",
        "plt.xlabel('Epoka')\n",
        "plt.ylabel('Dokładność')\n",
        "plt.legend()\n",
        "\n",
        "plt.subplot(1, 2, 2)\n",
        "plt.plot(history.history['loss'], label='Trenowanie')\n",
        "plt.plot(history.history['val_loss'], label='Walidacja')\n",
        "plt.title('Wykres straty')\n",
        "plt.xlabel('Epoka')\n",
        "plt.ylabel('Strata')\n",
        "plt.grid(True)\n",
        "plt.legend()\n",
        "\n",
        "plt.show()"
      ]
    },
    {
      "cell_type": "markdown",
      "id": "046ba6a8",
      "metadata": {
        "id": "046ba6a8"
      },
      "source": [
        "Model predict"
      ]
    },
    {
      "cell_type": "code",
      "execution_count": 14,
      "id": "97aG7kCnlJr1",
      "metadata": {
        "colab": {
          "base_uri": "https://localhost:8080/"
        },
        "id": "97aG7kCnlJr1",
        "outputId": "213d6efb-621d-456a-a39f-c36fcd2ba8f0"
      },
      "outputs": [
        {
          "name": "stdout",
          "output_type": "stream",
          "text": [
            "\u001b[1m9953/9953\u001b[0m \u001b[32m━━━━━━━━━━━━━━━━━━━━\u001b[0m\u001b[37m\u001b[0m \u001b[1m55s\u001b[0m 6ms/step - accuracy: 0.7498 - loss: 1.0778\n",
            "\n",
            "Dokładność na danych testowych: 0.7496\n"
          ]
        }
      ],
      "source": [
        "test_loss, test_acc = model.evaluate(X_test, y_test)\n",
        "print(f'\\nDokładność na danych testowych: {test_acc:.4f}')"
      ]
    },
    {
      "cell_type": "code",
      "execution_count": 15,
      "id": "21a18c6b",
      "metadata": {
        "colab": {
          "base_uri": "https://localhost:8080/",
          "height": 709
        },
        "id": "21a18c6b",
        "outputId": "14d80a89-1a40-4d8e-b24c-426f99f315af"
      },
      "outputs": [
        {
          "name": "stdout",
          "output_type": "stream",
          "text": [
            "\u001b[1m9953/9953\u001b[0m \u001b[32m━━━━━━━━━━━━━━━━━━━━\u001b[0m\u001b[37m\u001b[0m \u001b[1m39s\u001b[0m 4ms/step\n",
            "Accuracy: 0.7496499017212904\n",
            "[[119448  39794]\n",
            " [ 39938 119302]]\n",
            "              precision    recall  f1-score   support\n",
            "\n",
            "           0       0.75      0.75      0.75    159242\n",
            "           1       0.75      0.75      0.75    159240\n",
            "\n",
            "    accuracy                           0.75    318482\n",
            "   macro avg       0.75      0.75      0.75    318482\n",
            "weighted avg       0.75      0.75      0.75    318482\n",
            "\n"
          ]
        },
        {
          "data": {
            "image/png": "[encoded data removed]",
            "text/plain": [
              "<Figure size 640x480 with 2 Axes>"
            ]
          },
          "metadata": {},
          "output_type": "display_data"
        }
      ],
      "source": [
        "from sklearn.metrics import classification_report, confusion_matrix, accuracy_score, ConfusionMatrixDisplay\n",
        "\n",
        "y_pred = model.predict(X_test)\n",
        "y_pred_binary = (y_pred > 0.5).astype(int)\n",
        "\n",
        "print(\"Accuracy:\", accuracy_score(y_test, y_pred_binary))\n",
        "print(confusion_matrix(y_test, y_pred_binary))\n",
        "print(classification_report(y_test, y_pred_binary))\n",
        "\n",
        "cm = confusion_matrix(y_test, y_pred_binary)\n",
        "disp = ConfusionMatrixDisplay(confusion_matrix=cm, display_labels=[\"Negatywne\", \"Pozytywne\"])\n",
        "disp.plot(cmap='Blues')\n",
        "plt.title('Macierz konfuzji (zbiór testowy)')\n",
        "plt.show()"
      ]
    },
    {
      "cell_type": "code",
      "execution_count": 16,
      "id": "33b442b9",
      "metadata": {
        "colab": {
          "base_uri": "https://localhost:8080/",
          "height": 72
        },
        "id": "33b442b9",
        "outputId": "e73ed095-c181-4f82-8257-4e03cbaae9d7"
      },
      "outputs": [
        {
          "data": {
            "application/vnd.google.colaboratory.intrinsic+json": {
              "type": "string"
            },
            "text/plain": [
              "\"\\nmodel = Sequential([\\n    Embedding(input_dim=100000, output_dim=200, input_length=max_len),\\n    LSTM(128, return_sequences=True),\\n    Dropout(0.5),\\n    LSTM(128),\\n    Dense(64, activation='relu',\\n          kernel_regularizer=regularizers.l2(0.01),\\n          activity_regularizer=regularizers.l1(0.01)),\\n    Dense(2, activation='softmax')\\n])\\n\""
            ]
          },
          "execution_count": 16,
          "metadata": {},
          "output_type": "execute_result"
        }
      ],
      "source": [
        "'''\n",
        "model = Sequential([\n",
        "    Embedding(input_dim=100000, output_dim=200, input_length=max_len),\n",
        "    LSTM(128, return_sequences=True),\n",
        "    Dropout(0.5),\n",
        "    LSTM(128),\n",
        "    Dense(64, activation='relu',\n",
        "          kernel_regularizer=regularizers.l2(0.01),\n",
        "          activity_regularizer=regularizers.l1(0.01)),\n",
        "    Dense(2, activation='softmax')\n",
        "])\n",
        "'''"
      ]
    },
    {
      "cell_type": "code",
      "execution_count": 17,
      "id": "9249ee49",
      "metadata": {
        "colab": {
          "base_uri": "https://localhost:8080/",
          "height": 145
        },
        "id": "9249ee49",
        "outputId": "649d25dd-3f55-4e68-f028-5db836d740ba"
      },
      "outputs": [
        {
          "data": {
            "application/vnd.google.colaboratory.intrinsic+json": {
              "type": "string"
            },
            "text/plain": [
              "'\\ndef lstm_block(x, units, return_sequences=False, dp=0.4):\\n    residual = x\\n    # Bidirectional LSTM\\n    x = Bidirectional(LSTM(units, return_sequences=True, kernel_regularizer=l2(0.001)))(x)\\n    x = Dropout(dp)(x)\\n    x = BatchNormalization()(x)\\n\\n    attention = Attention()([x, x])\\n    x = Add()([x, attention])\\n\\n    if residual.shape[-1] != x.shape[-1]:\\n        residual = Dense(x.shape[-1])(residual)\\n    x = Add()([x, residual])\\n\\n    if not return_sequences:\\n        x = GlobalAveragePooling1D()(x)\\n\\n    return x\\n\\nfrom tensorflow.keras.layers import Embedding\\n\\ndef model_lstm_with_embedding(input_shape, vocab_size=100000, embedding_dim=100):\\n    inputs = Input(shape=input_shape)\\n\\n    # Embedding\\n    x = Embedding(input_dim=vocab_size, output_dim=embedding_dim, input_length=input_shape[0])(inputs)\\n\\n    # LSTM\\n    #x = lstm_block(x, 512, return_sequences=True)\\n    x = lstm_block(x, 256, return_sequences=True)\\n    x = lstm_block(x, 128, return_sequences=True)\\n    x = lstm_block(x, 64, return_sequences=False)\\n    #x = lstm_block(x, 32, return_sequences=False)\\n\\n    # Dense\\n    for units, rate in [(256, 0.4), (128, 0.4)]: #(512, 0.4), (64, 0.3)\\n        x = Dense(units)(x)\\n        x = LeakyReLU()(x)  # Leaky ReLU aktivasyon\\n        x = Dropout(rate)(x)\\n\\n\\n    outputs = Dense(1, activation=\"sigmoid\")(x)\\n\\n    model = Model(inputs, outputs)\\n\\n    model.compile(optimizer=Adam(0.001), loss=\\'binary_crossentropy\\', metrics=[\\'accuracy\\'])\\n\\n    return model\\n\\nmodel = model_lstm_with_embedding((max_len,))\\n'"
            ]
          },
          "execution_count": 17,
          "metadata": {},
          "output_type": "execute_result"
        }
      ],
      "source": [
        "'''\n",
        "def lstm_block(x, units, return_sequences=False, dp=0.4):\n",
        "    residual = x\n",
        "    # Bidirectional LSTM\n",
        "    x = Bidirectional(LSTM(units, return_sequences=True, kernel_regularizer=l2(0.001)))(x)\n",
        "    x = Dropout(dp)(x)\n",
        "    x = BatchNormalization()(x)\n",
        "\n",
        "    attention = Attention()([x, x])\n",
        "    x = Add()([x, attention])\n",
        "\n",
        "    if residual.shape[-1] != x.shape[-1]:\n",
        "        residual = Dense(x.shape[-1])(residual)\n",
        "    x = Add()([x, residual])\n",
        "\n",
        "    if not return_sequences:\n",
        "        x = GlobalAveragePooling1D()(x)\n",
        "\n",
        "    return x\n",
        "\n",
        "from tensorflow.keras.layers import Embedding\n",
        "\n",
        "def model_lstm_with_embedding(input_shape, vocab_size=100000, embedding_dim=100):\n",
        "    inputs = Input(shape=input_shape)\n",
        "\n",
        "    # Embedding\n",
        "    x = Embedding(input_dim=vocab_size, output_dim=embedding_dim, input_length=input_shape[0])(inputs)\n",
        "\n",
        "    # LSTM\n",
        "    #x = lstm_block(x, 512, return_sequences=True)\n",
        "    x = lstm_block(x, 256, return_sequences=True)\n",
        "    x = lstm_block(x, 128, return_sequences=True)\n",
        "    x = lstm_block(x, 64, return_sequences=False)\n",
        "    #x = lstm_block(x, 32, return_sequences=False)\n",
        "\n",
        "    # Dense\n",
        "    for units, rate in [(256, 0.4), (128, 0.4)]: #(512, 0.4), (64, 0.3)\n",
        "        x = Dense(units)(x)\n",
        "        x = LeakyReLU()(x)  # Leaky ReLU aktivasyon\n",
        "        x = Dropout(rate)(x)\n",
        "\n",
        "\n",
        "    outputs = Dense(1, activation=\"sigmoid\")(x)\n",
        "\n",
        "    model = Model(inputs, outputs)\n",
        "\n",
        "    model.compile(optimizer=Adam(0.001), loss='binary_crossentropy', metrics=['accuracy'])\n",
        "\n",
        "    return model\n",
        "\n",
        "model = model_lstm_with_embedding((max_len,))\n",
        "'''"
      ]
    }
  ],
  "metadata": {
    "accelerator": "GPU",
    "colab": {
      "gpuType": "T4",
      "provenance": []
    },
    "kernelspec": {
      "display_name": "Python 3",
      "name": "python3"
    },
    "language_info": {
      "codemirror_mode": {
        "name": "ipython",
        "version": 3
      },
      "file_extension": ".py",
      "mimetype": "text/x-python",
      "name": "python",
      "nbconvert_exporter": "python",
      "pygments_lexer": "ipython3",
      "version": "3.10.0"
    }
  },
  "nbformat": 4,
  "nbformat_minor": 5
}
